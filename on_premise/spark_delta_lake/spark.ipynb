{
 "cells": [
  {
   "attachments": {},
   "cell_type": "markdown",
   "metadata": {},
   "source": [
    "# pyspark to delta"
   ]
  },
  {
   "cell_type": "code",
   "execution_count": null,
   "metadata": {},
   "outputs": [],
   "source": [
    "import os\n",
    "os.environ['PYSPARK_SUBMIT_ARGS'] = '--packages org.apache.spark:spark-streaming-kafka-0-10_2.12:3.2.0,org.apache.spark:spark-sql-kafka-0-10_2.12:3.2.0,io.delta:delta-core_2.12:2.4.0 pyspark-shell'\n",
    "\n",
    "from pyspark.sql import SparkSession\n",
    "from pyspark.streaming import StreamingContext\n",
    "from pyspark.sql.functions import from_json\n",
    "from pyspark.sql.types import StructType, StructField, StringType,DateType\n",
    "\n",
    "\n",
    "spark = SparkSession \\\n",
    "        .builder \\\n",
    "        .appName(\"test\") \\\n",
    "        .config(\"spark.sql.debug.maxToStringFields\", \"100\") \\\n",
    "        .config(\"spark.sql.extensions\", \"io.delta.sql.DeltaSparkSessionExtension\")\\\n",
    "        .config(\"spark.sql.catalog.spark_catalog\", \"org.apache.spark.sql.delta.catalog.DeltaCatalog\") \\\n",
    "        .getOrCreate()\n",
    "\n",
    "from delta import *"
   ]
  },
  {
   "cell_type": "code",
   "execution_count": 5,
   "metadata": {},
   "outputs": [
    {
     "name": "stderr",
     "output_type": "stream",
     "text": [
      "                                                                                \r"
     ]
    },
    {
     "data": {
      "text/plain": [
       "<delta.tables.DeltaTable at 0x7fb038453340>"
      ]
     },
     "execution_count": 5,
     "metadata": {},
     "output_type": "execute_result"
    }
   ],
   "source": [
    "DeltaTable.createOrReplace(spark) \\\n",
    "  .tableName(\"default.iot_sensor_data_test1\") \\\n",
    "  .addColumn(\"dateHour\", \"TIMESTAMP\") \\\n",
    "  .addColumn (\"gpsSpeed\", \"FLOAT\") \\\n",
    "  .addColumn (\"gpsSatCount\", \"INT\") \\\n",
    "  .addColumn(\"Gear\", \"INT\").addColumn(\"Brake_pedal\", \"INT\").addColumn(\"Accel_pedal\", \"INT\") \\\n",
    "  .addColumn(\"Machine_Speed_Measured\", \"INT\")\\\n",
    "  .addColumn(\"AST_Direction\", \"INT\") \\\n",
    "  .addColumn(\"Ast_HPMB1_Pressure_bar\", \"INT\") \\\n",
    "  .addColumn(\"Ast_HPMA_Pressure_bar\", \"INT\") \\\n",
    "  .addColumn(\"Pressure_HighPressureReturn\", \"INT\") \\\n",
    "  .addColumn(\"Pressure_HighPressure\", \"INT\") \\\n",
    "  .addColumn(\"Oil_Temperature\", \"INT\") \\\n",
    "  .addColumn(\"Ast_FrontAxleSpeed_Rpm\", \"INT\") \\\n",
    "  .addColumn(\"Pump_Speed\", \"INT\") \\\n",
    "  .addColumn(\"client_id\", \"STRING\") \\\n",
    "  .addColumn(\"year\", \"INT\", generatedAlwaysAs=\"YEAR(dateHour)\") \\\n",
    "  .addColumn(\"month\", \"INT\", generatedAlwaysAs=\"MONTH(dateHour)\") \\\n",
    "  .addColumn(\"day\", \"INT\", generatedAlwaysAs=\"DAY(dateHour)\") \\\n",
    "  .addColumn(\"hour\", \"INT\", generatedAlwaysAs=\"HOUR(dateHour)\") \\\n",
    "  .partitionedBy(\"year\", \"month\", \"day\", \"hour\") \\\n",
    "  .execute()"
   ]
  },
  {
   "cell_type": "code",
   "execution_count": 7,
   "metadata": {},
   "outputs": [
    {
     "name": "stderr",
     "output_type": "stream",
     "text": [
      "                                                                                \r"
     ]
    },
    {
     "data": {
      "text/plain": [
       "[]"
      ]
     },
     "execution_count": 7,
     "metadata": {},
     "output_type": "execute_result"
    }
   ],
   "source": [
    "# spark.sql('SELECT * FROM default.`/home/thaibatuana1k41pbc/project_local/spark/spark-warehouse/iot_sensor_data_test1` limit 100;')\n",
    "spark.read.format(\"delta\").load(\"/home/thaibatuana1k41pbc/project_local/spark/spark-warehouse/iot_sensor_data_test1\").collect()"
   ]
  },
  {
   "cell_type": "code",
   "execution_count": 8,
   "metadata": {},
   "outputs": [
    {
     "name": "stderr",
     "output_type": "stream",
     "text": [
      "                                                                                \r"
     ]
    },
    {
     "name": "stdout",
     "output_type": "stream",
     "text": [
      "+--------------------+---------+-----------+----+-----------+-----------+----------------------+-------------+----------------------+---------------------+---------------------------+---------------------+---------------+----------------------+----------+---------+\n",
      "|            dateHour| gpsSpeed|gpsSatCount|Gear|Brake_pedal|Accel_pedal|Machine_Speed_Measured|AST_Direction|Ast_HPMB1_Pressure_bar|Ast_HPMA_Pressure_bar|Pressure_HighPressureReturn|Pressure_HighPressure|Oil_Temperature|Ast_FrontAxleSpeed_Rpm|Pump_Speed|client_id|\n",
      "+--------------------+---------+-----------+----+-----------+-----------+----------------------+-------------+----------------------+---------------------+---------------------------+---------------------+---------------+----------------------+----------+---------+\n",
      "|2023-06-02 14:18:...| 41.60666|         77| 124|        135|         46|                    20|           20|                     6|                   11|                          7|                33159|            152|                 32925|      1785|   cars/7|\n",
      "|2023-06-02 14:18:...|30.167545|         31| 125|        127|         39|                    20|           20|                     7|                    3|                         11|                33183|            143|                 33135|      1258|   cars/8|\n",
      "|2023-06-02 14:18:...| 86.68163|        254| 132|        134|         80|                    20|           20|                    11|                    8|                          5|                33043|            155|                 33063|      1285|   cars/4|\n",
      "|2023-06-02 14:18:...|0.4879204|         77| 127|        136|         96|                    20|           20|                    13|                    8|                          4|                32772|             23|                 33003|       822|   cars/9|\n",
      "+--------------------+---------+-----------+----+-----------+-----------+----------------------+-------------+----------------------+---------------------+---------------------------+---------------------+---------------+----------------------+----------+---------+\n",
      "\n",
      "root\n",
      " |-- dateHour: timestamp (nullable = true)\n",
      " |-- gpsSpeed: float (nullable = true)\n",
      " |-- gpsSatCount: integer (nullable = true)\n",
      " |-- Gear: integer (nullable = true)\n",
      " |-- Brake_pedal: integer (nullable = true)\n",
      " |-- Accel_pedal: integer (nullable = true)\n",
      " |-- Machine_Speed_Measured: integer (nullable = true)\n",
      " |-- AST_Direction: integer (nullable = true)\n",
      " |-- Ast_HPMB1_Pressure_bar: integer (nullable = true)\n",
      " |-- Ast_HPMA_Pressure_bar: integer (nullable = true)\n",
      " |-- Pressure_HighPressureReturn: integer (nullable = true)\n",
      " |-- Pressure_HighPressure: integer (nullable = true)\n",
      " |-- Oil_Temperature: integer (nullable = true)\n",
      " |-- Ast_FrontAxleSpeed_Rpm: integer (nullable = true)\n",
      " |-- Pump_Speed: integer (nullable = true)\n",
      " |-- client_id: string (nullable = true)\n",
      "\n"
     ]
    }
   ],
   "source": [
    "from pyspark.sql import SparkSession\n",
    "from pyspark.sql.types import StructType, StructField, TimestampType, FloatType, IntegerType, StringType, DateType\n",
    "from pyspark.sql.functions import rand\n",
    "from datetime import datetime\n",
    "schema = StructType([\n",
    "    StructField(\"dateHour\", TimestampType(), True),\n",
    "    StructField(\"gpsSpeed\", FloatType(), True),\n",
    "    StructField(\"gpsSatCount\", IntegerType(), True),\n",
    "    StructField(\"Gear\", IntegerType(), True),\n",
    "    StructField(\"Brake_pedal\", IntegerType(), True),\n",
    "    StructField(\"Accel_pedal\", IntegerType(), True),\n",
    "    StructField(\"Machine_Speed_Measured\", IntegerType(), True),\n",
    "    StructField(\"AST_Direction\", IntegerType(), True),\n",
    "    StructField(\"Ast_HPMB1_Pressure_bar\", IntegerType(), True),\n",
    "    StructField(\"Ast_HPMA_Pressure_bar\", IntegerType(), True),\n",
    "    StructField(\"Pressure_HighPressureReturn\", IntegerType(), True),\n",
    "    StructField(\"Pressure_HighPressure\", IntegerType(), True),\n",
    "    StructField(\"Oil_Temperature\", IntegerType(), True),\n",
    "    StructField(\"Ast_FrontAxleSpeed_Rpm\", IntegerType(), True),\n",
    "    StructField(\"Pump_Speed\", IntegerType(), True),\n",
    "    StructField(\"client_id\", StringType(), True)\n",
    "])\n",
    "data = [{\"gpsSpeed\":41.60666084273356,\"gpsSatCount\":77,\"dateHour\":datetime.strptime(\"2023-06-02 14:18:16.474728\", '%Y-%m-%d %H:%M:%S.%f'),\"client_id\":\"cars/7\",\"Pump_Speed\":1785,\"Pressure_HighPressureReturn\":7,\"Pressure_HighPressure\":33159,\"Oil_Temperature\":152,\"Machine_Speed_Measured\":20,\"Gear\":124,\"Brake_pedal\":135,\"Ast_HPMB1_Pressure_bar\":6,\"Ast_HPMA_Pressure_bar\":11,\"Ast_FrontAxleSpeed_Rpm\":32925,\"Accel_pedal\":46,\"AST_Direction\":20},\n",
    "{\"gpsSpeed\":30.16754615219846,\"gpsSatCount\":31,\"dateHour\": datetime.strptime(\"2023-06-02 14:18:16.475092\", '%Y-%m-%d %H:%M:%S.%f'),\"client_id\":\"cars/8\",\"Pump_Speed\":1258,\"Pressure_HighPressureReturn\":11,\"Pressure_HighPressure\":33183,\"Oil_Temperature\":143,\"Machine_Speed_Measured\":20,\"Gear\":125,\"Brake_pedal\":127,\"Ast_HPMB1_Pressure_bar\":7,\"Ast_HPMA_Pressure_bar\":3,\"Ast_FrontAxleSpeed_Rpm\":33135,\"Accel_pedal\":39,\"AST_Direction\":20},\n",
    "{\"gpsSpeed\":86.68163413814607,\"gpsSatCount\":254,\"dateHour\":datetime.strptime(\"2023-06-02 14:18:16.479768\", '%Y-%m-%d %H:%M:%S.%f'),\"client_id\":\"cars/4\",\"Pump_Speed\":1285,\"Pressure_HighPressureReturn\":5,\"Pressure_HighPressure\":33043,\"Oil_Temperature\":155,\"Machine_Speed_Measured\":20,\"Gear\":132,\"Brake_pedal\":134,\"Ast_HPMB1_Pressure_bar\":11,\"Ast_HPMA_Pressure_bar\":8,\"Ast_FrontAxleSpeed_Rpm\":33063,\"Accel_pedal\":80,\"AST_Direction\":20},\n",
    "{\"gpsSpeed\":0.48792041056762847,\"gpsSatCount\":77,\"dateHour\":datetime.strptime(\"2023-06-02 14:18:16.486976\", '%Y-%m-%d %H:%M:%S.%f'),\"client_id\":\"cars/9\",\"Pump_Speed\":822,\"Pressure_HighPressureReturn\":4,\"Pressure_HighPressure\":32772,\"Oil_Temperature\":23,\"Machine_Speed_Measured\":20,\"Gear\":127,\"Brake_pedal\":136,\"Ast_HPMB1_Pressure_bar\":13,\"Ast_HPMA_Pressure_bar\":8,\"Ast_FrontAxleSpeed_Rpm\":33003,\"Accel_pedal\":96,\"AST_Direction\":20}]\n",
    "\n",
    "header = ['dateHour', 'gpsSpeed', 'gpsSatCount', 'Gear', 'Brake_pedal', 'Accel_pedal', 'Machine_Speed_Measured', 'AST_Direction', 'Ast_HPMB1_Pressure_bar', 'Ast_HPMA_Pressure_bar', 'Pressure_HighPressureReturn', 'Pressure_HighPressure', 'Oil_Temperature', 'Ast_FrontAxleSpeed_Rpm', 'Pump_Speed', 'client_id']\n",
    "\n",
    "data_list = [[x[key] for key in header] for x in data]\n",
    "\n",
    "# # Create a DataFrame from the dictionary\n",
    "df = spark.createDataFrame(data_list, schema)\n",
    "df.show()\n",
    "df.printSchema()"
   ]
  },
  {
   "cell_type": "code",
   "execution_count": 9,
   "metadata": {},
   "outputs": [
    {
     "name": "stderr",
     "output_type": "stream",
     "text": [
      "                                                                                \r"
     ]
    }
   ],
   "source": [
    "from pyspark.sql.functions import *\n",
    "df.write \\\n",
    "  .format(\"delta\") \\\n",
    "  .mode(\"overwrite\") \\\n",
    "  .option(\"partitionOverwriteMode\", \"dynamic\") \\\n",
    "  .saveAsTable(\"default.iot_sensor_data_test1\")"
   ]
  },
  {
   "cell_type": "code",
   "execution_count": 9,
   "metadata": {},
   "outputs": [],
   "source": [
    "df_kafka = spark \\\n",
    "  .readStream \\\n",
    "  .format(\"kafka\") \\\n",
    "  .option(\"kafka.bootstrap.servers\", \"localhost:9092\") \\\n",
    "  .option(\"subscribe\", \"cars_sensor_data_delta\") \\\n",
    "  .option(\"startingOffsets\", \"latest\") \\\n",
    "  .load()"
   ]
  },
  {
   "cell_type": "code",
   "execution_count": 11,
   "metadata": {},
   "outputs": [],
   "source": [
    "def process_batch(df, batch_id):\n",
    "    # Collect the rows of the DataFrame as a list\n",
    "    rows = df.collect()\n",
    "    # print(rows)\n",
    "    # df_rows = spark.createDataFrame(rows)\n",
    "    print(rows)\n",
    "    # df_rows.write \\\n",
    "    # .format(\"delta\") \\\n",
    "    # .mode(\"overwrite\") \\\n",
    "    # .option(\"partitionOverwriteMode\", \"dynamic\") \\\n",
    "    # .saveAsTable(\"default.iot_sensor_data_test1\")"
   ]
  },
  {
   "cell_type": "code",
   "execution_count": null,
   "metadata": {},
   "outputs": [],
   "source": [
    "query = df_kafka.selectExpr(\"CAST(value AS STRING)\").select(\"value\").writeStream.foreachBatch(process_batch).start()\n",
    "query.awaitTermination()\n",
    "  # .format(\"delta\") \\\n",
    "  # .outputMode(\"append\") \\\n",
    "  # .option(\"checkpointLocation\", \"/tmp/delta/events/_checkpoints/\") \\\n",
    "  # .toTable(\"default.iot_sensor_data_test\")"
   ]
  }
 ],
 "metadata": {
  "kernelspec": {
   "display_name": "Python 3 (ipykernel)",
   "language": "python",
   "name": "python3"
  },
  "language_info": {
   "codemirror_mode": {
    "name": "ipython",
    "version": 3
   },
   "file_extension": ".py",
   "mimetype": "text/x-python",
   "name": "python",
   "nbconvert_exporter": "python",
   "pygments_lexer": "ipython3",
   "version": "3.8.0"
  }
 },
 "nbformat": 4,
 "nbformat_minor": 2
}
