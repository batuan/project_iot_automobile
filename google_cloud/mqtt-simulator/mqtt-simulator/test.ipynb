{
 "cells": [
  {
   "cell_type": "code",
   "execution_count": 14,
   "metadata": {},
   "outputs": [],
   "source": [
    "import os\n",
    "import numpy as np\n",
    "import random\n",
    "import shutil\n",
    "import datetime\n",
    "image_path = '../images/data/export/'\n",
    "file  = os.listdir('../images/data/export')"
   ]
  },
  {
   "cell_type": "code",
   "execution_count": 2,
   "metadata": {},
   "outputs": [
    {
     "data": {
      "text/plain": [
       "'1478019952686311006_jpg.rf.54e2d12dbabc46be3c78995b6eaf3fee.jpg'"
      ]
     },
     "execution_count": 2,
     "metadata": {},
     "output_type": "execute_result"
    }
   ],
   "source": [
    "file[0]"
   ]
  },
  {
   "cell_type": "code",
   "execution_count": 15,
   "metadata": {},
   "outputs": [
    {
     "data": {
      "text/plain": [
       "'/home/lamsade/gchatziloizos/tuan/mqtt-simulator/mqtt-simulator/test_bat/X46789_1/X46789_1_2023-06-05T11-40-39.537412Z.jpg'"
      ]
     },
     "execution_count": 15,
     "metadata": {},
     "output_type": "execute_result"
    }
   ],
   "source": [
    "src = image_path + random.choice(file)\n",
    "file_image_name = 'X46789_1' + \"_\" + datetime.datetime.now().strftime(\"%Y-%m-%dT%H-%M-%S.%fZ\") + \".jpg\"\n",
    "dst = '~/tuan/mqtt-simulator/mqtt-simulator/test_bat/X46789_1/' + file_image_name\n",
    "shutil.copy(src=src, dst=dst)"
   ]
  },
  {
   "cell_type": "code",
   "execution_count": 10,
   "metadata": {},
   "outputs": [
    {
     "data": {
      "text/plain": [
       "'1478897453951981936_jpg.rf.e11544c7c8c38025b2ad4c35da20a687.jpg'"
      ]
     },
     "execution_count": 10,
     "metadata": {},
     "output_type": "execute_result"
    }
   ],
   "source": [
    "random.choice(file)\n"
   ]
  }
 ],
 "metadata": {
  "kernelspec": {
   "display_name": "tuan3",
   "language": "python",
   "name": "python3"
  },
  "language_info": {
   "codemirror_mode": {
    "name": "ipython",
    "version": 3
   },
   "file_extension": ".py",
   "mimetype": "text/x-python",
   "name": "python",
   "nbconvert_exporter": "python",
   "pygments_lexer": "ipython3",
   "version": "3.8.15"
  },
  "orig_nbformat": 4
 },
 "nbformat": 4,
 "nbformat_minor": 2
}
